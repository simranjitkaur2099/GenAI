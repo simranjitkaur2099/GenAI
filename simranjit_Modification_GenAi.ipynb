{
  "nbformat": 4,
  "nbformat_minor": 0,
  "metadata": {
    "colab": {
      "provenance": [],
      "include_colab_link": true
    },
    "kernelspec": {
      "name": "python3",
      "display_name": "Python 3"
    },
    "language_info": {
      "name": "python"
    }
  },
  "cells": [
    {
      "cell_type": "markdown",
      "metadata": {
        "id": "view-in-github",
        "colab_type": "text"
      },
      "source": [
        "<a href=\"https://colab.research.google.com/github/simranjitkaur2099/GenAI/blob/main/simranjit_Modification_GenAi.ipynb\" target=\"_parent\"><img src=\"https://colab.research.google.com/assets/colab-badge.svg\" alt=\"Open In Colab\"/></a>"
      ]
    },
    {
      "cell_type": "markdown",
      "source": [
        "# Title of Project : AI Content Generation Based on Replicates"
      ],
      "metadata": {
        "id": "a8oeaNTHnTAd"
      }
    },
    {
      "cell_type": "markdown",
      "source": [
        "#Project Scope\n",
        "\n",
        "The objective of this study is to evaluate the capabilities of the Replicate platform with regard to the production of content that is powered by artificial intelligence. In order to demonstrate the many different creative applications that may be accomplished through the utilization of Replicate, we will make images and films by making use of models that have already been trained.\n",
        "\n",
        "\n",
        "\n"
      ],
      "metadata": {
        "id": "7fTg6bjlnehw"
      }
    },
    {
      "cell_type": "markdown",
      "source": [
        "# Group Members"
      ],
      "metadata": {
        "id": "wmCL6QcqO_t9"
      }
    },
    {
      "cell_type": "markdown",
      "source": [
        "-  Lalit Kumar - 4347749\n",
        "-  Simranjit Kaur - 4347333\n"
      ],
      "metadata": {
        "id": "kCn8P1wDOhLe"
      }
    },
    {
      "cell_type": "markdown",
      "source": [
        "# Brief Project Description\n",
        "\n",
        "We shall provide a thorough evaluation of the features provided by the Replicate platform within the framework of this study. We will analyze the creation of various photos and videos using a variety of Replicate models. Understanding the model's capabilities, assessing the quality of the supplied information, and identifying possible application areas are among the aims.\n",
        "\n",
        "\n",
        "\n",
        "\n"
      ],
      "metadata": {
        "id": "YriYl2mYogaI"
      }
    },
    {
      "cell_type": "markdown",
      "source": [
        "### Project Objective\n",
        "\n",
        "This project's goal is to increase the platform's functionality by making use of Gen AI's Replicate API. Because of this, complicated algorithms, models, and data structures will be able to be replicated. In order to make knowledge transfer easier and to make it scalable across different applications, we are aiming to simplify the process of duplicating AI models and data.\n",
        "\n",
        "\n"
      ],
      "metadata": {
        "id": "elcPLIXbpqvc"
      }
    },
    {
      "cell_type": "markdown",
      "source": [
        "### Project Outcome"
      ],
      "metadata": {
        "id": "VbFJWVVzqBH4"
      }
    },
    {
      "cell_type": "markdown",
      "source": [
        "* Gen AI's use of the Replicate API will greatly enhance the speed and accuracy of reproducing AI models and datasets. Simplifying the replication technique and decreasing the amount of manual involvement will achieve this.\n",
        "\n",
        "* Enable scalability across many domains and applications by making it easy for Gen AI users to replicate complicated data structures and AI models.\n",
        "\n",
        "* Gen AI will reach more people with the help of the Replicate API, which will boost innovation and shorten development times while also making it easier to use.\n",
        "\n",
        "* Keep mistakes to a minimum and preserve accuracy throughout the replication process to guarantee consistent and dependable replication of AI models and data structures.\n",
        "\n",
        "* Facilitate user collaboration by standardizing the process of model and data replication. Because of this, the Gen AI ecosystem will be able to support better knowledge exchange.\n",
        "\n",
        "* Encouraging adaptability and flexibility in many contexts by letting users replicate and alter AI models across various platforms and scenarios.\n",
        "\n",
        "\n",
        "\n",
        "\n",
        "\n",
        "\n",
        "\n",
        "\n"
      ],
      "metadata": {
        "id": "j4zJpzyBqD-p"
      }
    },
    {
      "cell_type": "markdown",
      "source": [
        "### Modification/New Specification\n",
        "\n",
        "* To begin, enter your Replicate API key into the system. This is the first step in the API authentication process. In order to authenticate and make use of the functionalities offered by the Replicate API, you will need this key.\n",
        "\n",
        "* Construct prompts that provide a description of the content they are intended to generate. You may, for instance, enter descriptions such as \"A tranquil landscape with mountains and a lake\" for photographs, or you could begin and end scenarios such as \"A sunrise over a calm ocean\" and \"The sun setting behind a city skyline\" for the creation of videos.\n",
        "\n",
        "* You are able to create images, films, and GIFs based on these prompts by utilizing the functions that are available through the Replicate API. The application programming interface (API) makes use of these prompts in order to generate content that is compatible with or comprehends the descriptions that are provided.\n",
        "\n",
        "* Once photographs, movies, and GIFs have been generated, they can be viewed directly within the Google Colab environment by making use of the appropriate display capabilities. This allows for a real-time view of the content that has been generated.\n",
        "\n",
        "* These generated media assets can be altered, utilized for analysis, or incorporated in various projects, depending on the specific objectives and requirements of each unique project.\n",
        "\n"
      ],
      "metadata": {
        "id": "jv5keaSRqgpK"
      }
    },
    {
      "cell_type": "markdown",
      "source": [
        "## Criteria Specific Cell\n",
        "* Algorithmic innovations\n",
        " * The Replicate API may integrate algorithmic innovations that improve the efficiency and speed of training artificial intelligence models. This would reduce the amount of time necessary for model convergence while preserving or even improving model accuracy.\n",
        " * The process of duplicating complicated data structures might be simplified through the implementation of algorithmic enhancements, which would enable faster data transfer and storage, hence boosting the scalability of advanced artificial intelligence applications.\n",
        "\n",
        "* Improvements Concerning Efficiency\n",
        " * The integration may introduce techniques that are efficient with resources, which will enable users to develop high-quality visual material while reducing the amount of computer resources required. This will make the content more accessible to greater numbers of users.\n",
        "\n",
        " * The Replicate API has the potential to drastically reduce the amount of time required to generate photos, videos, or GIFs based on provided prompts. This is accomplished through optimizations in data processing and model inference.\n",
        "\n",
        "* Creative and Original Applications\n",
        "\n",
        " * The application programming interface (API) allows users to use its capabilities for creative content generation, which includes the translation of written instructions into visually engaging information. This can be used for inventive storytelling, design prototyping, or artistic production.\n",
        " * Personalized Media Creation: One example of an innovative application could be the production of personalized visual content for marketing, social media, or instructional reasons. This content would be adjusted to specific textual instructions or user preferences.\n",
        " *  The capabilities of the API may extend to include novel data augmentation techniques or data exploration methods. This would enable users to view and comprehend complicated datasets by means of visual representations that have been developed.\n",
        "\n"
      ],
      "metadata": {
        "id": "MShi7xnVBoKh"
      }
    },
    {
      "cell_type": "markdown",
      "source": [
        "## 1. As part of this procedure, replicate will be installed in our Google Colab notebook account.\n"
      ],
      "metadata": {
        "id": "KscP6qEZsYIM"
      }
    },
    {
      "cell_type": "code",
      "execution_count": null,
      "metadata": {
        "colab": {
          "base_uri": "https://localhost:8080/"
        },
        "id": "sH6k2w4z7-Hw",
        "outputId": "ee884249-feed-44a6-cf56-d1994e64a56a"
      },
      "outputs": [
        {
          "output_type": "stream",
          "name": "stdout",
          "text": [
            "Collecting replicate\n",
            "  Downloading replicate-0.21.0-py3-none-any.whl (34 kB)\n",
            "Collecting httpx<1,>=0.21.0 (from replicate)\n",
            "  Downloading httpx-0.25.2-py3-none-any.whl (74 kB)\n",
            "\u001b[?25l     \u001b[90m━━━━━━━━━━━━━━━━━━━━━━━━━━━━━━━━━━━━━━━━\u001b[0m \u001b[32m0.0/75.0 kB\u001b[0m \u001b[31m?\u001b[0m eta \u001b[36m-:--:--\u001b[0m\r\u001b[2K     \u001b[90m━━━━━━━━━━━━━━━━━━━━━━━━━━━━━━━━━━━━━━━━\u001b[0m \u001b[32m75.0/75.0 kB\u001b[0m \u001b[31m5.8 MB/s\u001b[0m eta \u001b[36m0:00:00\u001b[0m\n",
            "\u001b[?25hRequirement already satisfied: packaging in /usr/local/lib/python3.10/dist-packages (from replicate) (23.2)\n",
            "Requirement already satisfied: pydantic>1 in /usr/local/lib/python3.10/dist-packages (from replicate) (1.10.13)\n",
            "Requirement already satisfied: typing-extensions>=4.5.0 in /usr/local/lib/python3.10/dist-packages (from replicate) (4.5.0)\n",
            "Requirement already satisfied: anyio in /usr/local/lib/python3.10/dist-packages (from httpx<1,>=0.21.0->replicate) (3.7.1)\n",
            "Requirement already satisfied: certifi in /usr/local/lib/python3.10/dist-packages (from httpx<1,>=0.21.0->replicate) (2023.11.17)\n",
            "Collecting httpcore==1.* (from httpx<1,>=0.21.0->replicate)\n",
            "  Downloading httpcore-1.0.2-py3-none-any.whl (76 kB)\n",
            "\u001b[2K     \u001b[90m━━━━━━━━━━━━━━━━━━━━━━━━━━━━━━━━━━━━━━━━\u001b[0m \u001b[32m76.9/76.9 kB\u001b[0m \u001b[31m8.6 MB/s\u001b[0m eta \u001b[36m0:00:00\u001b[0m\n",
            "\u001b[?25hRequirement already satisfied: idna in /usr/local/lib/python3.10/dist-packages (from httpx<1,>=0.21.0->replicate) (3.6)\n",
            "Requirement already satisfied: sniffio in /usr/local/lib/python3.10/dist-packages (from httpx<1,>=0.21.0->replicate) (1.3.0)\n",
            "Collecting h11<0.15,>=0.13 (from httpcore==1.*->httpx<1,>=0.21.0->replicate)\n",
            "  Downloading h11-0.14.0-py3-none-any.whl (58 kB)\n",
            "\u001b[2K     \u001b[90m━━━━━━━━━━━━━━━━━━━━━━━━━━━━━━━━━━━━━━━━\u001b[0m \u001b[32m58.3/58.3 kB\u001b[0m \u001b[31m8.1 MB/s\u001b[0m eta \u001b[36m0:00:00\u001b[0m\n",
            "\u001b[?25hRequirement already satisfied: exceptiongroup in /usr/local/lib/python3.10/dist-packages (from anyio->httpx<1,>=0.21.0->replicate) (1.2.0)\n",
            "Installing collected packages: h11, httpcore, httpx, replicate\n",
            "Successfully installed h11-0.14.0 httpcore-1.0.2 httpx-0.25.2 replicate-0.21.0\n"
          ]
        }
      ],
      "source": [
        "# @title Install Replicate\n",
        "!pip install replicate\n"
      ]
    },
    {
      "cell_type": "markdown",
      "source": [
        "## 2. This phase involves exporting our application programming interface (API) in the Google Colab Notebook, which is utilized for the generation of images, videos, and GIFs."
      ],
      "metadata": {
        "id": "ppIJUwD6skRB"
      }
    },
    {
      "cell_type": "code",
      "source": [
        "API = \"r8_Q6tYVxOl94mVEXS0OqvlC1qGNsPrfUl2ZCxii\"\n",
        "import os\n",
        "\n",
        "os.environ[\"REPLICATE_API_TOKEN\"] = API #find it here: https://replicate.com/signin?next=/account/api-tokens"
      ],
      "metadata": {
        "id": "FYCtnQZDlqZZ"
      },
      "execution_count": null,
      "outputs": []
    },
    {
      "cell_type": "markdown",
      "source": [
        "## 3) A picture will be created in our Google Colab notebook as the third phase in this process.\n"
      ],
      "metadata": {
        "id": "ghvyYSHYs1KT"
      }
    },
    {
      "cell_type": "code",
      "source": [
        "# @title Generate Image\n",
        "prompt = \"person raising hand\"\n",
        "import replicate\n",
        "\n",
        "output = replicate.run(\n",
        "  \"stability-ai/stable-diffusion:27b93a2413e7f36cd83da926f3656280b2931564ff050bf9575f1fdf9bcd7478\",\n",
        "  input={\"prompt\":prompt}\n",
        ")\n",
        "\n",
        "output"
      ],
      "metadata": {
        "id": "HoEceNpTlzjE",
        "outputId": "f5e668bd-0a9a-4bb8-c51a-10b223dbb945",
        "colab": {
          "base_uri": "https://localhost:8080/"
        }
      },
      "execution_count": null,
      "outputs": [
        {
          "output_type": "execute_result",
          "data": {
            "text/plain": [
              "['https://replicate.delivery/pbxt/uVsJ5wZhgy67BFDe0XyuWDRRmfN2Vi4kBOpOwxtN2EyYuUejA/out-0.png']"
            ]
          },
          "metadata": {},
          "execution_count": 3
        }
      ]
    },
    {
      "cell_type": "markdown",
      "source": [
        "## 4) In this stage, we will display the image that we have generated on Google Colab Notebook.\n"
      ],
      "metadata": {
        "id": "CrfFJWoQtFQa"
      }
    },
    {
      "cell_type": "code",
      "source": [
        "\n",
        "from IPython.display import Image\n",
        "output_image = output\n",
        "Image(url=output_image[0])"
      ],
      "metadata": {
        "id": "eUZbVWswl7OC",
        "outputId": "987bbbf5-03d1-4fd7-dec7-a78e9a2159dc",
        "colab": {
          "base_uri": "https://localhost:8080/",
          "height": 533
        }
      },
      "execution_count": null,
      "outputs": [
        {
          "output_type": "execute_result",
          "data": {
            "text/html": [
              "<img src=\"https://replicate.delivery/pbxt/uVsJ5wZhgy67BFDe0XyuWDRRmfN2Vi4kBOpOwxtN2EyYuUejA/out-0.png\"/>"
            ],
            "text/plain": [
              "<IPython.core.display.Image object>"
            ]
          },
          "metadata": {},
          "execution_count": 4
        }
      ]
    },
    {
      "cell_type": "markdown",
      "source": [
        "## 5) In this step, you will generate a video, gif, or animation in the Google Colab Notebook by using the prompt command.\n"
      ],
      "metadata": {
        "id": "Uieqe7AYtTSN"
      }
    },
    {
      "cell_type": "code",
      "source": [
        "# @title Video/gif/animation/Generation\n",
        "import replicate\n",
        "\n",
        "output = replicate.run(\n",
        "    \"andreasjansson/stable-diffusion-animation:ca1f5e306e5721e19c473e0d094e6603f0456fe759c10715fcd6c1b79242d4a5\",\n",
        "    input={\n",
        "        \"prompt_start\": \"hand raising \",\n",
        "        \"prompt_end\": \"hand open\",\n",
        "        \"output_format\": \"gif\",\n",
        "        \"gif_ping_pong\": True\n",
        "    }\n",
        ")\n",
        "\n",
        "output\n"
      ],
      "metadata": {
        "id": "6e9xdZavl-h1",
        "outputId": "f624ab6a-6595-4fc7-ff26-0d9db8458c9f",
        "colab": {
          "base_uri": "https://localhost:8080/"
        }
      },
      "execution_count": null,
      "outputs": [
        {
          "output_type": "execute_result",
          "data": {
            "text/plain": [
              "<generator object Prediction.output_iterator at 0x7d08f6469770>"
            ]
          },
          "metadata": {},
          "execution_count": 7
        }
      ]
    },
    {
      "cell_type": "markdown",
      "source": [
        "## 6) Creating a video in Google Colab is the next step in the process.\n"
      ],
      "metadata": {
        "id": "eaVUkcx3tnUg"
      }
    },
    {
      "cell_type": "code",
      "source": [
        "# @title generate video\n",
        "for item in output:\n",
        "     #https://replicate.com/andreasjansson/stable-diffusion-animation/versions/ca1f5e306e5721e19c473e0d094e6603f0456fe759c10715fcd6c1b79242d4a5/api#output-schema\n",
        "    print(item)"
      ],
      "metadata": {
        "id": "RAGe2-zRmMKP",
        "outputId": "20ca9909-e486-4b11-9494-565faf8e820a",
        "colab": {
          "base_uri": "https://localhost:8080/"
        }
      },
      "execution_count": null,
      "outputs": [
        {
          "output_type": "stream",
          "name": "stdout",
          "text": [
            "https://replicate.delivery/pbxt/Ffbnsefrc3TZNpj4pTXmpeg09DFGqQDDT6ZDrOgFmSdlLT5HB/video.gif\n"
          ]
        }
      ]
    },
    {
      "cell_type": "markdown",
      "source": [
        "## 7) At this point, you will need to obtain the video from the Google Colab.\n"
      ],
      "metadata": {
        "id": "OZATf-fpz0s2"
      }
    },
    {
      "cell_type": "code",
      "source": [
        "# @title get the video on colab\n",
        "gif_url= item[0:len(item)]"
      ],
      "metadata": {
        "id": "EgeEX5q2mO5c"
      },
      "execution_count": null,
      "outputs": []
    },
    {
      "cell_type": "markdown",
      "source": [
        "## 8) At this stage, the video that was made will be displayed on the Google Colab.\n"
      ],
      "metadata": {
        "id": "NowA6oRDz75A"
      }
    },
    {
      "cell_type": "code",
      "source": [
        "# @title Show the video\n",
        "import requests\n",
        "from IPython.display import display, Image\n",
        "from PIL import Image as PILImage\n",
        "from io import BytesIO\n",
        "response = requests.get(gif_url)\n",
        "if response.status_code == 200:\n",
        "    # Display the GIF in the notebook\n",
        "    display(Image(url=gif_url))\n",
        "\n",
        "    # Save the GIF in the Colab environment\n",
        "    with open(\"gif_output.gif\", \"wb\") as f:\n",
        "        f.write(response.content)\n",
        "\n",
        "    # Show a saved GIF using PIL\n",
        "    saved_gif = PILImage.open(\"gif_output.gif\")\n",
        "    saved_gif.show()\n",
        "else:\n",
        "    print(\"Failed to fetch GIF\")\n"
      ],
      "metadata": {
        "id": "6DHW7LtFmXzG",
        "outputId": "dab95ef3-8d12-4570-8aa9-8131ef9dd1ea",
        "colab": {
          "base_uri": "https://localhost:8080/",
          "height": 533
        }
      },
      "execution_count": null,
      "outputs": [
        {
          "output_type": "display_data",
          "data": {
            "text/html": [
              "<img src=\"https://replicate.delivery/pbxt/Ffbnsefrc3TZNpj4pTXmpeg09DFGqQDDT6ZDrOgFmSdlLT5HB/video.gif\"/>"
            ],
            "text/plain": [
              "<IPython.core.display.Image object>"
            ]
          },
          "metadata": {}
        }
      ]
    },
    {
      "cell_type": "markdown",
      "source": [
        "# Reference\n",
        "\n",
        "* Image restoration – Replicate. https://replicate.com/collections/image-restoration\n",
        "* andreasjansson/stable-diffusion-animation – Replicate. (n.d.). https://replicate.com/andreasjansson/stable-diffusion-animation/api?tab=nodejs\n",
        "\n",
        "* Sign in – Replicate.  https://replicate.com/account/api-tokens"
      ],
      "metadata": {
        "id": "9hx-49sf0ECp"
      }
    },
    {
      "cell_type": "markdown",
      "source": [
        "# Video Link\n",
        "https://drive.google.com/file/d/1mHl3xhVRTLJZyDkr7G5YTWZZcWcw-nk-/view?usp=sharing"
      ],
      "metadata": {
        "id": "gAieFQhW0YAO"
      }
    },
    {
      "cell_type": "markdown",
      "source": [
        "```\n",
        "Thankyou\n",
        "```\n",
        "---"
      ],
      "metadata": {
        "id": "CJwKjZec0aCp"
      }
    }
  ]
}